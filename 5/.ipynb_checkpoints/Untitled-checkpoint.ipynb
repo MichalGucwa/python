{
 "cells": [
  {
   "cell_type": "markdown",
   "id": "978325d0",
   "metadata": {},
   "source": [
    "# Home Work 5"
   ]
  },
  {
   "cell_type": "markdown",
   "id": "f416fe6d",
   "metadata": {},
   "source": [
    "## 5.1"
   ]
  },
  {
   "cell_type": "markdown",
   "id": "4b7c93e0",
   "metadata": {},
   "source": [
    "For a given directory (top) find the number of bytes taken by PDF files in the directory tree (\".pdf\" extensions). The code should be in the function find_pdf_size(top). In order to test the current directory we run find_pdf_size(\".\"). "
   ]
  },
  {
   "cell_type": "code",
   "execution_count": 22,
   "id": "3601c987",
   "metadata": {},
   "outputs": [],
   "source": [
    "import subprocess\n",
    "\n",
    "def how_many_bites_pdf(path):\n",
    "    size=0\n",
    "    cmd='ls -la '+path\n",
    "    result=subprocess.run(cmd.split(), stdout=subprocess.PIPE)\n",
    "    for line in result.stdout.decode('utf-8').split('\\n')[:-1]:\n",
    "        if('.pdf' in line.split()[-1]):\n",
    "            size+=int(line.split()[4])\n",
    "    return size"
   ]
  },
  {
   "cell_type": "code",
   "execution_count": 23,
   "id": "b9709881",
   "metadata": {},
   "outputs": [
    {
     "data": {
      "text/plain": [
       "39792"
      ]
     },
     "execution_count": 23,
     "metadata": {},
     "output_type": "execute_result"
    }
   ],
   "source": [
    "how_many_bites_pdf('top')"
   ]
  },
  {
   "cell_type": "markdown",
   "id": "ca9f2e05",
   "metadata": {},
   "source": [
    "## 5.2"
   ]
  },
  {
   "cell_type": "markdown",
   "id": "10cc6a90",
   "metadata": {},
   "source": [
    "Create the function print_working_days(date1, date2), where 'date1' and 'date2' are strings of the form 'YYYY-MM-DD'. The function prints dates of working days (from Monday to Friday) in the given range, 'date2' is excluded. "
   ]
  },
  {
   "cell_type": "code",
   "execution_count": 50,
   "id": "8129aa43",
   "metadata": {},
   "outputs": [
    {
     "data": {
      "text/plain": [
       "1"
      ]
     },
     "execution_count": 50,
     "metadata": {},
     "output_type": "execute_result"
    }
   ],
   "source": [
    "import pandas as pd\n",
    "\n",
    "def print_working_days(date1, date2):\n",
    "    diff=pd.Timestamp(date2)-pd.Timestamp(date1)\n",
    "    days=diff.days\n",
    "    first_day=pd.Timestamp(date1).dayofweek\n",
    "    \n",
    "    working_days=[0,1,2,3,4]\n",
    "    n=first_day\n",
    "    work=0\n",
    "    for i in range(days):\n",
    "        if(n in working_days):\n",
    "            work+=1\n",
    "        n+=1\n",
    "        if(n==7):\n",
    "            n=0\n",
    "    return work\n",
    "print_working_days('2022-04-01', '2022-04-04')"
   ]
  },
  {
   "cell_type": "code",
   "execution_count": 48,
   "id": "1dd3bc64",
   "metadata": {},
   "outputs": [
    {
     "data": {
      "text/plain": [
       "0"
      ]
     },
     "execution_count": 48,
     "metadata": {},
     "output_type": "execute_result"
    }
   ],
   "source": []
  },
  {
   "cell_type": "code",
   "execution_count": null,
   "id": "db5b3628",
   "metadata": {},
   "outputs": [],
   "source": []
  }
 ],
 "metadata": {
  "kernelspec": {
   "display_name": "Python 3 (ipykernel)",
   "language": "python",
   "name": "python3"
  },
  "language_info": {
   "codemirror_mode": {
    "name": "ipython",
    "version": 3
   },
   "file_extension": ".py",
   "mimetype": "text/x-python",
   "name": "python",
   "nbconvert_exporter": "python",
   "pygments_lexer": "ipython3",
   "version": "3.7.11"
  }
 },
 "nbformat": 4,
 "nbformat_minor": 5
}
