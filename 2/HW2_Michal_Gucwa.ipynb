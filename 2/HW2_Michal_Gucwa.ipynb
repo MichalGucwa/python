{
 "cells": [
  {
   "cell_type": "markdown",
   "id": "0ff40850",
   "metadata": {},
   "source": [
    "# Exercise 1"
   ]
  },
  {
   "cell_type": "code",
   "execution_count": 2,
   "id": "e61ff397",
   "metadata": {},
   "outputs": [
    {
     "name": "stdout",
     "output_type": "stream",
     "text": [
      "9\n"
     ]
    }
   ],
   "source": [
    "long_intiger=2000000000\n",
    "print(str(long_intiger).count('0'))"
   ]
  },
  {
   "cell_type": "markdown",
   "id": "0d8f106c",
   "metadata": {},
   "source": [
    "# Exercise 2"
   ]
  },
  {
   "cell_type": "code",
   "execution_count": null,
   "id": "b15c8aa7",
   "metadata": {},
   "outputs": [],
   "source": [
    "# Explain the results.\n",
    "x = 5\n",
    "x == 5 and 3                  # 3 pierwsze jest dobrze wiec idzie do nastepnego i zwraca wartość w tym wypadku 3\n",
    "x == 4 and 3                  # False nie idzie do kolejnego bo zatrzymuje sie na pierwszym i zwraca wartosc z \n",
    "                              # x==4 czyli False\n",
    "    \n",
    "3 and x == 5                  # True zwraca wartosc z ostatniego czyli x==5 True\n",
    "3 and x == 4                  # False zwraca wartosc z ostatniego, w obu przypadkach liczby oprócz 0 są traktowane\n",
    "                              # jako True\n",
    "\n",
    "isinstance(True, int)         # True\n",
    "isinstance(True, bool)        # True poniewaz zamiennie w pythonie prawda lub fałsz moga byc reprezentowane przez\n",
    "                              # przez 1,True lub 0,False czyli przez liczby całkowite lub typ logiczny"
   ]
  },
  {
   "cell_type": "markdown",
   "id": "e32932c5",
   "metadata": {},
   "source": [
    "# Exercise 3"
   ]
  },
  {
   "cell_type": "code",
   "execution_count": null,
   "id": "e052f63a",
   "metadata": {},
   "outputs": [],
   "source": [
    "#Find the sum 1*1 + 3*3 + 5*5 + ... + 2021*2021 [hint: use sum()]. "
   ]
  },
  {
   "cell_type": "code",
   "execution_count": 23,
   "id": "aa7b07cf",
   "metadata": {},
   "outputs": [
    {
     "data": {
      "text/plain": [
       "2753594311"
      ]
     },
     "execution_count": 23,
     "metadata": {},
     "output_type": "execute_result"
    }
   ],
   "source": [
    "sum([_*_ for _ in range(1,2022)])"
   ]
  },
  {
   "cell_type": "markdown",
   "id": "41c11119",
   "metadata": {},
   "source": [
    "# Exercise 4"
   ]
  },
  {
   "cell_type": "code",
   "execution_count": null,
   "id": "a0797de6",
   "metadata": {},
   "outputs": [],
   "source": [
    "#(a) Find Unicode code points (int) for all characters of your name.\n",
    "#Example: \"Andrzej\" --> [65, 110, 100, 114, 122, 101, 106]"
   ]
  },
  {
   "cell_type": "code",
   "execution_count": 28,
   "id": "be3eacb1",
   "metadata": {},
   "outputs": [
    {
     "data": {
      "text/plain": [
       "[77, 105, 99, 104, 97, 108]"
      ]
     },
     "execution_count": 28,
     "metadata": {},
     "output_type": "execute_result"
    }
   ],
   "source": [
    "def translate(name):\n",
    "    return [ord(_) for _ in name]\n",
    "\n",
    "translate(\"Michal\")"
   ]
  },
  {
   "cell_type": "code",
   "execution_count": 29,
   "id": "b4d2f852",
   "metadata": {},
   "outputs": [],
   "source": [
    "# (b) Prepare the periodic table (ten elements) as a list\n",
    "# pt = [(1,\"Hydrogen\",\"H\",1), (2,\"Helium\",\"He\",4), ...].\n",
    "# Use pt to print a table (3 right + 20 left + 6 center + 10 right)\n",
    "# +---+--------------------+------+----------+\n",
    "# |No.|Name (en)           |Symbol|Weight (u)|\n",
    "# +---+--------------------+------+----------+\n",
    "# |  1|Hydrogen            |  H   |         1|\n",
    "# |  2|Helium              |  He  |         4|\n",
    "# |   | ...                |      |          |\n",
    "# +---+--------------------+------+----------+\n"
   ]
  },
  {
   "cell_type": "code",
   "execution_count": 43,
   "id": "8fddd4d8",
   "metadata": {},
   "outputs": [
    {
     "name": "stdout",
     "output_type": "stream",
     "text": [
      "\n",
      "+---+--------------------+------+----------+\n",
      "|No.|Name (en)           |Symbol|Weight (u)|\n",
      "+---+--------------------+------+----------+\n",
      "|  1|Hydrogen            |  H   |         1|\n",
      "|  2|Helium              |  He  |         4|\n",
      "|  3|Lithium             |  Li  |         7|\n",
      "|  4|Berylium            |  Be  |         9|\n",
      "|  5|Boron               |  B   |        11|\n",
      "|  6|Carbon              |  C   |        12|\n",
      "|  7|Nitrogen            |  N   |        15|\n",
      "|  8|Oxygen              |  O   |        16|\n",
      "|  9|Fluorine            |  F   |        19|\n",
      "| 10|Neon                |  Ne  |        20|\n",
      "+---+--------------------+------+----------+\n"
     ]
    }
   ],
   "source": [
    "pt = [(1,\"Hydrogen\",\"H\",1), (2,\"Helium\",\"He\",4), \n",
    "      (3, \"Lithium\",'Li',7) ,(4, \"Berylium\",'Be',9),(5,'Boron','B',11),(6,'Carbon','C',12),(7,'Nitrogen','N',15),\n",
    "      (8,'Oxygen','O',16),(9,'Fluorine','F',19),(10,'Neon','Ne',20)]\n",
    "\n",
    "def periodic_table(something):\n",
    "    first_lines='''\n",
    "+---+--------------------+------+----------+\n",
    "|No.|Name (en)           |Symbol|Weight (u)|\n",
    "+---+--------------------+------+----------+'''\n",
    "    line_of_pluses='''+---+--------------------+------+----------+'''\n",
    "    print(first_lines)\n",
    "    for el in something:\n",
    "        print(\"|%3d|%-20s|%6s|%10d|\" % (el[0],el[1],el[2].center(6),el[3]))\n",
    "    print(line_of_pluses)\n",
    "\n",
    "periodic_table(pt)"
   ]
  },
  {
   "cell_type": "markdown",
   "id": "dd2c7a54",
   "metadata": {},
   "source": [
    "# Exercise 5"
   ]
  },
  {
   "cell_type": "code",
   "execution_count": 44,
   "id": "141f0b90",
   "metadata": {},
   "outputs": [],
   "source": [
    "# Let S be a long string (many lines).\n",
    "\n",
    "# Find the number of black characters in S [not whitespace, see the method S.isspace()].\n",
    "\n",
    "# Find the number of words in S (a word is a sequence of black characters).\n",
    "\n",
    "# Find the longest word in S.\n",
    "\n",
    "# Sort words from S according to (1) the lexicographic order, (2) the length. "
   ]
  },
  {
   "cell_type": "code",
   "execution_count": 66,
   "id": "3ad950df",
   "metadata": {},
   "outputs": [
    {
     "name": "stdout",
     "output_type": "stream",
     "text": [
      "Number of black characters:  54\n",
      "Number of words:  7\n",
      "Longest word:  asfdf/,f.,sd.f.svdlkkv\n",
      "\n",
      "Sorted by Lexo\n",
      "adasjdlksajd\n",
      "asdas\n",
      "asfdf/,f.,sd.f.svdlkkv\n",
      "asjd\n",
      "asod\n",
      "df\n",
      "sadas\n",
      "\n",
      "Sorted by len\n",
      "df asod asjd asdas sadas adasjdlksajd asfdf/,f.,sd.f.svdlkkv "
     ]
    }
   ],
   "source": [
    "S='''adasjdlksajd asod asjd asdas\n",
    "asfdf/,f.,sd.f.svdlkkv  sadas\n",
    "df'''\n",
    "\n",
    "number_of_black_characters=len(\"\".join(S.split()))\n",
    "print('Number of black characters: ',number_of_black_characters)\n",
    "\n",
    "number_of_words=len(S.split())\n",
    "print('Number of words: ',number_of_words)\n",
    "\n",
    "def longest_word(sequence):\n",
    "    winner_winner_chicken_dinner=''\n",
    "    score=-1\n",
    "    for word in sequence.split():\n",
    "        if(len(word)>score):\n",
    "            winner_winner_chicken_dinner=word\n",
    "            score=len(word)\n",
    "    return winner_winner_chicken_dinner\n",
    "\n",
    "print(\"Longest word: \", longest_word(S))\n",
    "\n",
    "def sortLexo(my_string):\n",
    "    words = my_string.split()\n",
    "    words.sort()\n",
    "    for i in words:\n",
    "        print( i ) \n",
    "print(\"\\nSorted by Lexo\")\n",
    "sortLexo(S)\n",
    "\n",
    "def sord_by_longest_words(sequence):\n",
    "    my_dict={a:len(a) for a in sequence.split()}\n",
    "    sorted_dict={k: v for k, v in sorted(my_dict.items(), key=lambda item: item[1])}\n",
    "    return list(sorted_dict.keys())\n",
    "print(\"\\nSorted by len\")\n",
    "for el in sord_by_longest_words(S):\n",
    "    print(el,end=\" \")\n",
    "    \n"
   ]
  },
  {
   "cell_type": "markdown",
   "id": "6b4c55c4",
   "metadata": {},
   "source": [
    "# exercise 6"
   ]
  },
  {
   "cell_type": "code",
   "execution_count": 72,
   "id": "057e88c3",
   "metadata": {},
   "outputs": [
    {
     "name": "stdout",
     "output_type": "stream",
     "text": [
      "2 4\n"
     ]
    }
   ],
   "source": [
    "# # Find and explain the results.\n",
    "t = (2, 4) #assigne tuple of 2 and 4 into variable t\n",
    "#print(t[2]) #error index out of range\n",
    "#t.append(6) # error, because we can not modify tuple\n",
    "a, b = t ; print(a, b) #we assign first and second element to a and b, then we print it\n"
   ]
  },
  {
   "cell_type": "markdown",
   "id": "d4e82ff8",
   "metadata": {},
   "source": [
    "# exercise 7"
   ]
  },
  {
   "cell_type": "code",
   "execution_count": 73,
   "id": "48616bc2",
   "metadata": {},
   "outputs": [],
   "source": [
    "# Create a dict for conversion of roman numerals (I, IV, V, IX, X, XL, L, XC, C, CD, D, CM, M) to arabic numbers. Use different methods. "
   ]
  },
  {
   "cell_type": "code",
   "execution_count": 94,
   "id": "c4b7a7cc",
   "metadata": {},
   "outputs": [
    {
     "name": "stdout",
     "output_type": "stream",
     "text": [
      "MMCMXXI"
     ]
    }
   ],
   "source": [
    "def Legio_aeterna_VICTRIX(number):\n",
    "    my_dict={\n",
    "        1000:'M',\n",
    "        900:'CM',\n",
    "        500:'D',\n",
    "        400: 'CD',\n",
    "        100:'C',\n",
    "        90:'XC',\n",
    "        50:\"L\",\n",
    "        40:\"XL\",\n",
    "        10:\"X\",\n",
    "        9:\"IX\",\n",
    "        5:\"V\",\n",
    "        4:\"IV\",\n",
    "        1:\"I\"\n",
    "    }\n",
    "    \n",
    "    for key in my_dict.keys():\n",
    "        print(number//key*my_dict[key],end='')\n",
    "        number=number-number//key*key\n",
    "\n",
    "Legio_aeterna_VICTRIX(2921)"
   ]
  },
  {
   "cell_type": "code",
   "execution_count": null,
   "id": "93ef07df",
   "metadata": {},
   "outputs": [],
   "source": []
  }
 ],
 "metadata": {
  "kernelspec": {
   "display_name": "Python 3 (ipykernel)",
   "language": "python",
   "name": "python3"
  },
  "language_info": {
   "codemirror_mode": {
    "name": "ipython",
    "version": 3
   },
   "file_extension": ".py",
   "mimetype": "text/x-python",
   "name": "python",
   "nbconvert_exporter": "python",
   "pygments_lexer": "ipython3",
   "version": "3.7.11"
  }
 },
 "nbformat": 4,
 "nbformat_minor": 5
}
