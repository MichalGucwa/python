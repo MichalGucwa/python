{
 "cells": [
  {
   "cell_type": "markdown",
   "id": "978325d0",
   "metadata": {},
   "source": [
    "# Home Work 5"
   ]
  },
  {
   "cell_type": "raw",
   "id": "72ec5b2b",
   "metadata": {},
   "source": [
    "# https://ufkapano.github.io/scicomppy/index.html"
   ]
  },
  {
   "cell_type": "markdown",
   "id": "f416fe6d",
   "metadata": {},
   "source": [
    "## 5.1"
   ]
  },
  {
   "cell_type": "markdown",
   "id": "4b7c93e0",
   "metadata": {},
   "source": [
    "For a given directory (top) find the number of bytes taken by PDF files in the directory tree (\".pdf\" extensions). The code should be in the function find_pdf_size(top). In order to test the current directory we run find_pdf_size(\".\"). "
   ]
  },
  {
   "cell_type": "code",
   "execution_count": 22,
   "id": "3601c987",
   "metadata": {},
   "outputs": [
    {
     "name": "stdout",
     "output_type": "stream",
     "text": [
      "top/a/dummy1.pdf 13264\n",
      "top/dummy1.pdf 13264\n",
      "top/dummy2.pdf 13264\n",
      "top/dummy3.pdf 13264\n"
     ]
    },
    {
     "data": {
      "text/plain": [
       "39792"
      ]
     },
     "execution_count": 22,
     "metadata": {},
     "output_type": "execute_result"
    }
   ],
   "source": [
    "import subprocess\n",
    "\n",
    "def find_pdf_size(path):\n",
    "    for root, dirs, files in os.walk(\"top\", topdown=False):\n",
    "        size_all=0\n",
    "        for name in files:\n",
    "            path=os.path.join(root, name)\n",
    "            size_single=os.path.getsize(path)\n",
    "            size_all+=size_single\n",
    "            print(path, size_single) \n",
    "            \n",
    "    return size_all\n",
    "\n",
    "top='top'            \n",
    "find_pdf_size(top)"
   ]
  },
  {
   "cell_type": "markdown",
   "id": "ca9f2e05",
   "metadata": {},
   "source": [
    "## 5.2"
   ]
  },
  {
   "cell_type": "markdown",
   "id": "10cc6a90",
   "metadata": {},
   "source": [
    "Create the function print_working_days(date1, date2), where 'date1' and 'date2' are strings of the form 'YYYY-MM-DD'. The function prints dates of working days (from Monday to Friday) in the given range, 'date2' is excluded. "
   ]
  },
  {
   "cell_type": "code",
   "execution_count": 42,
   "id": "8129aa43",
   "metadata": {},
   "outputs": [
    {
     "name": "stdout",
     "output_type": "stream",
     "text": [
      "2022-05-02 00:00:00 is working day\n",
      "2022-05-03 00:00:00 is working day\n",
      "2022-05-04 00:00:00 is working day\n",
      "2022-05-05 00:00:00 is working day\n",
      "2022-05-06 00:00:00 is working day\n",
      "2022-05-09 00:00:00 is working day\n",
      "2022-05-10 00:00:00 is working day\n",
      "2022-05-11 00:00:00 is working day\n",
      "2022-05-12 00:00:00 is working day\n",
      "2022-05-13 00:00:00 is working day\n",
      "2022-05-16 00:00:00 is working day\n",
      "2022-05-17 00:00:00 is working day\n",
      "2022-05-18 00:00:00 is working day\n",
      "2022-05-19 00:00:00 is working day\n",
      "2022-05-20 00:00:00 is working day\n",
      "Number of working days: 15\n"
     ]
    }
   ],
   "source": [
    "import pandas as pd\n",
    "\n",
    "def print_working_days(date1, date2):\n",
    "    diff=pd.Timestamp(date2)-pd.Timestamp(date1)\n",
    "    days=diff.days\n",
    "    first_day=pd.Timestamp(date1).dayofweek\n",
    "    working_days=[0,1,2,3,4]\n",
    "    n=first_day\n",
    "\n",
    "    work=0\n",
    "    for i in range(days):\n",
    "        if(n in working_days):\n",
    "            working_day=pd.Timestamp(date1)+pd.Timedelta(i,unit='D')\n",
    "            print(working_day, \"is working day\")\n",
    "            work+=1\n",
    "        n+=1\n",
    "        if(n==7):\n",
    "            n=0\n",
    "    print(\"Number of working days: %d\" % (work))\n",
    "print_working_days('2022-05-01', '2022-05-21')"
   ]
  },
  {
   "cell_type": "markdown",
   "id": "f0ff3d36",
   "metadata": {},
   "source": [
    "# EXERCISE 5.3"
   ]
  },
  {
   "cell_type": "markdown",
   "id": "ba2aa7f1",
   "metadata": {},
   "source": [
    "Create the generator random_walk(start) for a 1D random walker. If a position at a certain moment is x, then the next position can be x+1 or x-1 with equal probabilities. Find the final position after 100 moves (start=0). Repeat experiments. "
   ]
  },
  {
   "cell_type": "code",
   "execution_count": 51,
   "id": "ec3388ab",
   "metadata": {},
   "outputs": [
    {
     "name": "stdout",
     "output_type": "stream",
     "text": [
      "Final position: -16.\n"
     ]
    }
   ],
   "source": [
    "from numpy.random import random\n",
    "\n",
    "def random_walk(starting_position):\n",
    "    position=starting_position\n",
    "    while(1):\n",
    "        where_to_go_choice=random()\n",
    "        if(where_to_go_choice<=0.5):\n",
    "            #go left\n",
    "            position+=-1\n",
    "            yield position\n",
    "        else:\n",
    "            #go_right\n",
    "            position+=1\n",
    "            yield position"
   ]
  },
  {
   "cell_type": "code",
   "execution_count": 56,
   "id": "621a80e4",
   "metadata": {},
   "outputs": [
    {
     "name": "stdout",
     "output_type": "stream",
     "text": [
      "Final position: -6.\n"
     ]
    }
   ],
   "source": [
    "A=random_walk(0)\n",
    "for i in range(100):\n",
    "    curr_position=next(A)\n",
    "\n",
    "print('Final position: %d.' % (curr_position))"
   ]
  }
 ],
 "metadata": {
  "kernelspec": {
   "display_name": "Python 3 (ipykernel)",
   "language": "python",
   "name": "python3"
  },
  "language_info": {
   "codemirror_mode": {
    "name": "ipython",
    "version": 3
   },
   "file_extension": ".py",
   "mimetype": "text/x-python",
   "name": "python",
   "nbconvert_exporter": "python",
   "pygments_lexer": "ipython3",
   "version": "3.7.11"
  }
 },
 "nbformat": 4,
 "nbformat_minor": 5
}
