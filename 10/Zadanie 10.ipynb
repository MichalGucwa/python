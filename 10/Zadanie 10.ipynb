{
 "cells": [
  {
   "cell_type": "markdown",
   "id": "5d94cadb",
   "metadata": {},
   "source": [
    "# Zadanie 10"
   ]
  },
  {
   "cell_type": "markdown",
   "id": "56033911",
   "metadata": {},
   "source": [
    "# EXERCISE 10.1 (VENV)"
   ]
  },
  {
   "cell_type": "markdown",
   "id": "88892c6d",
   "metadata": {},
   "source": [
    "conda create --name myenv numpy matplotlib pandas\n",
    "y\n",
    "conda activate myenv"
   ]
  },
  {
   "cell_type": "markdown",
   "id": "e00e21a0",
   "metadata": {},
   "source": [
    "# EXERCISE 10.2 (SERIES)"
   ]
  },
  {
   "cell_type": "markdown",
   "id": "bd43bcb0",
   "metadata": {},
   "source": [
    "Create pd.Series where 'index' contains days of the current month and 'data' contains some numbers (temperatures at noon, currency rates, ...). "
   ]
  },
  {
   "cell_type": "code",
   "execution_count": 3,
   "id": "ec56af76",
   "metadata": {},
   "outputs": [
    {
     "data": {
      "text/plain": [
       "1     1\n",
       "2     0\n",
       "3     1\n",
       "4     1\n",
       "5     1\n",
       "6     0\n",
       "7     1\n",
       "8     0\n",
       "9     1\n",
       "10    1\n",
       "11    1\n",
       "dtype: int64"
      ]
     },
     "execution_count": 3,
     "metadata": {},
     "output_type": "execute_result"
    }
   ],
   "source": [
    "import pandas as pd\n",
    "#today is june 11\n",
    "index=[i+1 for i in range(11)]\n",
    "sunny_days=[1,0,1,1,1,0,1,0,1,1,1]\n",
    "ser = pd.Series(data=sunny_days, index=index)\n",
    "ser"
   ]
  },
  {
   "cell_type": "markdown",
   "id": "738fecc4",
   "metadata": {},
   "source": [
    "# EXERCISE 10.3 (DATAFRAME)"
   ]
  },
  {
   "cell_type": "markdown",
   "id": "f3941951",
   "metadata": {},
   "source": [
    "Create pd.DataFrame for the periodic table (ten elements). Column names are 'Name', 'Symbol', 'Weight'. 'index' starts from 1 for hydrogen. "
   ]
  },
  {
   "cell_type": "code",
   "execution_count": 14,
   "id": "92245cc2",
   "metadata": {},
   "outputs": [],
   "source": [
    "df=pd.DataFrame()\n",
    "df['index']=[i+1 for i in range(10)]\n",
    "df=df.set_index('index')\n",
    "df['Name']=['Hydrogen', 'Helium','Lithium', 'Beryllium', 'Boron','Carbon','Nitrogen','Oxygen','Fluorine',\"Neon\"]\n",
    "df['Symbol']=['H','He','Li','Be','B','C','N','O','F','Ne']\n",
    "df['Weight']=[1.0078,4.0026,6.9410,9.0122,10.811,12.011,14.007,15.999,18.998,20.180]"
   ]
  },
  {
   "cell_type": "code",
   "execution_count": 15,
   "id": "5ca2cf42",
   "metadata": {},
   "outputs": [
    {
     "data": {
      "text/html": [
       "<div>\n",
       "<style scoped>\n",
       "    .dataframe tbody tr th:only-of-type {\n",
       "        vertical-align: middle;\n",
       "    }\n",
       "\n",
       "    .dataframe tbody tr th {\n",
       "        vertical-align: top;\n",
       "    }\n",
       "\n",
       "    .dataframe thead th {\n",
       "        text-align: right;\n",
       "    }\n",
       "</style>\n",
       "<table border=\"1\" class=\"dataframe\">\n",
       "  <thead>\n",
       "    <tr style=\"text-align: right;\">\n",
       "      <th></th>\n",
       "      <th>Name</th>\n",
       "      <th>Symbol</th>\n",
       "      <th>Weight</th>\n",
       "    </tr>\n",
       "    <tr>\n",
       "      <th>index</th>\n",
       "      <th></th>\n",
       "      <th></th>\n",
       "      <th></th>\n",
       "    </tr>\n",
       "  </thead>\n",
       "  <tbody>\n",
       "    <tr>\n",
       "      <th>1</th>\n",
       "      <td>Hydrogen</td>\n",
       "      <td>H</td>\n",
       "      <td>1.0078</td>\n",
       "    </tr>\n",
       "    <tr>\n",
       "      <th>2</th>\n",
       "      <td>Helium</td>\n",
       "      <td>He</td>\n",
       "      <td>4.0026</td>\n",
       "    </tr>\n",
       "    <tr>\n",
       "      <th>3</th>\n",
       "      <td>Lithium</td>\n",
       "      <td>Li</td>\n",
       "      <td>6.9410</td>\n",
       "    </tr>\n",
       "    <tr>\n",
       "      <th>4</th>\n",
       "      <td>Beryllium</td>\n",
       "      <td>Be</td>\n",
       "      <td>9.0122</td>\n",
       "    </tr>\n",
       "    <tr>\n",
       "      <th>5</th>\n",
       "      <td>Boron</td>\n",
       "      <td>B</td>\n",
       "      <td>10.8110</td>\n",
       "    </tr>\n",
       "    <tr>\n",
       "      <th>6</th>\n",
       "      <td>Carbon</td>\n",
       "      <td>C</td>\n",
       "      <td>12.0110</td>\n",
       "    </tr>\n",
       "    <tr>\n",
       "      <th>7</th>\n",
       "      <td>Nitrogen</td>\n",
       "      <td>N</td>\n",
       "      <td>14.0070</td>\n",
       "    </tr>\n",
       "    <tr>\n",
       "      <th>8</th>\n",
       "      <td>Oxygen</td>\n",
       "      <td>O</td>\n",
       "      <td>15.9990</td>\n",
       "    </tr>\n",
       "    <tr>\n",
       "      <th>9</th>\n",
       "      <td>Fluorine</td>\n",
       "      <td>F</td>\n",
       "      <td>18.9980</td>\n",
       "    </tr>\n",
       "    <tr>\n",
       "      <th>10</th>\n",
       "      <td>Neon</td>\n",
       "      <td>Ne</td>\n",
       "      <td>20.1800</td>\n",
       "    </tr>\n",
       "  </tbody>\n",
       "</table>\n",
       "</div>"
      ],
      "text/plain": [
       "            Name Symbol   Weight\n",
       "index                           \n",
       "1       Hydrogen      H   1.0078\n",
       "2         Helium     He   4.0026\n",
       "3        Lithium     Li   6.9410\n",
       "4      Beryllium     Be   9.0122\n",
       "5          Boron      B  10.8110\n",
       "6         Carbon      C  12.0110\n",
       "7       Nitrogen      N  14.0070\n",
       "8         Oxygen      O  15.9990\n",
       "9       Fluorine      F  18.9980\n",
       "10          Neon     Ne  20.1800"
      ]
     },
     "execution_count": 15,
     "metadata": {},
     "output_type": "execute_result"
    }
   ],
   "source": [
    "df"
   ]
  },
  {
   "cell_type": "code",
   "execution_count": null,
   "id": "88c54090",
   "metadata": {},
   "outputs": [],
   "source": []
  }
 ],
 "metadata": {
  "kernelspec": {
   "display_name": "Python 3 (ipykernel)",
   "language": "python",
   "name": "python3"
  },
  "language_info": {
   "codemirror_mode": {
    "name": "ipython",
    "version": 3
   },
   "file_extension": ".py",
   "mimetype": "text/x-python",
   "name": "python",
   "nbconvert_exporter": "python",
   "pygments_lexer": "ipython3",
   "version": "3.7.11"
  }
 },
 "nbformat": 4,
 "nbformat_minor": 5
}
