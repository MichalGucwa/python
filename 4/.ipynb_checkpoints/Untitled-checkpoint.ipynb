{
 "cells": [
  {
   "cell_type": "markdown",
   "id": "895f48aa",
   "metadata": {},
   "source": [
    "# Zad 4.1"
   ]
  },
  {
   "cell_type": "raw",
   "id": "d5e21bc1",
   "metadata": {},
   "source": [
    "Let p=(x,y) be a point in a plane. Define the following functions using lambda:\n",
    "(a) a test if p is in unit circle,\n",
    "(b) a test if the coordinates of p are positive,\n",
    "(c) a sorting key (y decreasing, x increasing),\n",
    "(d) a sorting key (the sum |x|+|y|). "
   ]
  },
  {
   "cell_type": "code",
   "execution_count": 37,
   "id": "24950cce",
   "metadata": {},
   "outputs": [
    {
     "name": "stdout",
     "output_type": "stream",
     "text": [
      "True\n",
      "True\n",
      "[(1, 3), (2, 1), (3, 1)]\n",
      "[(2, 1), (3, 1), (1, 3)]\n"
     ]
    }
   ],
   "source": [
    "p=(0.5,0.5)\n",
    "a_exercise=lambda p: (p[0]**2 + p[1]**2)**(0.5)<=1\n",
    "print(a_exercise(p))\n",
    "\n",
    "b_exercise=lambda p : p[0]>=0 and p[1]>=0\n",
    "print(b_exercise(p))\n",
    "\n",
    "c_exercise=lambda p : (-p[1], p[0])\n",
    "A=[(3,1),(2,1),(1,3)]\n",
    "A.sort(key=c_exercise)\n",
    "print(A)\n",
    "\n",
    "A=[(3,1),(2,1),(1,3)]\n",
    "d_exercise=lambda p : abs(p[0])+abs(p[1])\n",
    "A.sort(key=d_exercise)\n",
    "print(A)"
   ]
  },
  {
   "cell_type": "markdown",
   "id": "07ef2f65",
   "metadata": {},
   "source": [
    "# Zad 4.2"
   ]
  },
  {
   "cell_type": "raw",
   "id": "3bc5603c",
   "metadata": {},
   "source": [
    "Reversing a part of a list in place, reverse_range(L, left, right), the right index is included. Write iterative and recursive versions. "
   ]
  },
  {
   "cell_type": "code",
   "execution_count": 73,
   "id": "62b9d14d",
   "metadata": {},
   "outputs": [],
   "source": [
    "#iterative\n",
    "def reverse_range(L, left, right):\n",
    "    L_pre=L[0:left]\n",
    "    L_middle=L[left:right+1]\n",
    "    L_post=L[1+right:]\n",
    "    L_rev=[]\n",
    "    for i in range(1,len(L_middle)+1):\n",
    "        L_rev.append(L_middle[-i])\n",
    "    L_final=L_pre+L_rev+L_post\n",
    "    return L_final"
   ]
  },
  {
   "cell_type": "code",
   "execution_count": 74,
   "id": "7b4b8b1a",
   "metadata": {},
   "outputs": [
    {
     "data": {
      "text/plain": [
       "[1, 2, 5, 4, 3, 6]"
      ]
     },
     "execution_count": 74,
     "metadata": {},
     "output_type": "execute_result"
    }
   ],
   "source": [
    "L=[1,2,3,4,5,6]\n",
    "reverse_range(L,2,4)"
   ]
  },
  {
   "cell_type": "code",
   "execution_count": 75,
   "id": "debd427f",
   "metadata": {},
   "outputs": [],
   "source": [
    "#recursive\n",
    "def rev(l):\n",
    "    if len(l) == 0: return []\n",
    "    return [l[-1]] + rev(l[:-1])\n",
    "\n",
    "def reverse_range(L, left, right):\n",
    "    L_pre=L[0:left]\n",
    "    L_middle=L[left:right+1]\n",
    "    L_post=L[1+right:]\n",
    "    L_rev=[]\n",
    "    L_rev=rev(L_middle)\n",
    "    L_final=L_pre+L_rev+L_post\n",
    "    return L_final"
   ]
  },
  {
   "cell_type": "code",
   "execution_count": 76,
   "id": "f529ad35",
   "metadata": {},
   "outputs": [
    {
     "data": {
      "text/plain": [
       "[1, 2, 5, 4, 3, 6]"
      ]
     },
     "execution_count": 76,
     "metadata": {},
     "output_type": "execute_result"
    }
   ],
   "source": [
    "L=[1,2,3,4,5,6]\n",
    "reverse_range(L,2,4)"
   ]
  },
  {
   "cell_type": "markdown",
   "id": "766fcf13",
   "metadata": {},
   "source": [
    "# Zad 4.3"
   ]
  },
  {
   "cell_type": "raw",
   "id": "bf14b9b0",
   "metadata": {},
   "source": [
    "Create the following infinite generators:\n",
    "(a) iter_even(), producing even numbers (0, 2, 4, ...),\n",
    "(b) iter_odd(), producing odd numbers (1, 3, 5, ...),\n",
    "(c) iter_power(k), producing powers of k (1, k, k*k, k*k*k, ...). "
   ]
  },
  {
   "cell_type": "code",
   "execution_count": 113,
   "id": "7b81dbef",
   "metadata": {},
   "outputs": [],
   "source": [
    "def iter_even():   # an infinite iterator\n",
    "    i = 0\n",
    "    while True:\n",
    "        yield i*2\n",
    "        i += 1"
   ]
  },
  {
   "cell_type": "code",
   "execution_count": 123,
   "id": "f793e010",
   "metadata": {},
   "outputs": [
    {
     "name": "stdout",
     "output_type": "stream",
     "text": [
      "1\n",
      "3\n",
      "5\n",
      "7\n",
      "9\n",
      "11\n",
      "13\n",
      "15\n",
      "17\n",
      "19\n"
     ]
    }
   ],
   "source": [
    "gen=iter_even()\n",
    "for _ in range(10):\n",
    "    print(next(gen))\n"
   ]
  },
  {
   "cell_type": "code",
   "execution_count": 124,
   "id": "2720402b",
   "metadata": {},
   "outputs": [],
   "source": [
    "def iter_odd():   # an infinite iterator\n",
    "    i = 0\n",
    "    while True:\n",
    "        yield i*2+1\n",
    "        i += 1"
   ]
  },
  {
   "cell_type": "code",
   "execution_count": 125,
   "id": "7d0ca0f0",
   "metadata": {},
   "outputs": [
    {
     "name": "stdout",
     "output_type": "stream",
     "text": [
      "1\n",
      "3\n",
      "5\n",
      "7\n",
      "9\n",
      "11\n",
      "13\n",
      "15\n",
      "17\n",
      "19\n"
     ]
    }
   ],
   "source": [
    "gen=iter_odd()\n",
    "for _ in range(10):\n",
    "    print(next(gen))\n"
   ]
  },
  {
   "cell_type": "code",
   "execution_count": 126,
   "id": "5417f937",
   "metadata": {},
   "outputs": [],
   "source": [
    "def iter_power():   # an infinite iterator\n",
    "    k = 1\n",
    "    while True:\n",
    "        yield k*k\n",
    "        k += 1"
   ]
  },
  {
   "cell_type": "code",
   "execution_count": 127,
   "id": "64136cab",
   "metadata": {},
   "outputs": [
    {
     "name": "stdout",
     "output_type": "stream",
     "text": [
      "1\n",
      "4\n",
      "9\n",
      "16\n",
      "25\n",
      "36\n",
      "49\n",
      "64\n",
      "81\n",
      "100\n"
     ]
    }
   ],
   "source": [
    "gen=iter_power()\n",
    "for _ in range(10):\n",
    "    print(next(gen))"
   ]
  },
  {
   "cell_type": "code",
   "execution_count": null,
   "id": "3815b989",
   "metadata": {},
   "outputs": [],
   "source": []
  }
 ],
 "metadata": {
  "kernelspec": {
   "display_name": "Python 3 (ipykernel)",
   "language": "python",
   "name": "python3"
  },
  "language_info": {
   "codemirror_mode": {
    "name": "ipython",
    "version": 3
   },
   "file_extension": ".py",
   "mimetype": "text/x-python",
   "name": "python",
   "nbconvert_exporter": "python",
   "pygments_lexer": "ipython3",
   "version": "3.7.11"
  }
 },
 "nbformat": 4,
 "nbformat_minor": 5
}
