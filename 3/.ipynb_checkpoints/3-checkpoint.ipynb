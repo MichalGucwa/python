{
 "cells": [
  {
   "cell_type": "markdown",
   "id": "58bd514e",
   "metadata": {},
   "source": [
    "# Zad 3.1\n",
    "\n",
    "For a given word (you may use your name), print it in squares.\n",
    "If word = \"Python\", them the result is<br>\n",
    "+---+---+---+---+---+---+<br>\n",
    "| P | y | t | h | o | n |<br>\n",
    "+---+---+---+---+---+---+"
   ]
  },
  {
   "cell_type": "code",
   "execution_count": 13,
   "id": "5ead2a84",
   "metadata": {},
   "outputs": [],
   "source": [
    "def fancy_lane(n):\n",
    "    print(\"+\",end='')\n",
    "    for i in range(n):\n",
    "        print(\"---+\", end=\"\")\n",
    "    print(\"\")\n",
    "\n",
    "def table_name(name):\n",
    "    n_name=len(name)\n",
    "    fancy_lane(n_name)\n",
    "    print(\"|\",end='')\n",
    "    for char in name:\n",
    "        print(\" %c |\" % char, end=\"\")\n",
    "    print('')\n",
    "    fancy_lane(n_name)"
   ]
  },
  {
   "cell_type": "code",
   "execution_count": 16,
   "id": "da6f3f78",
   "metadata": {},
   "outputs": [
    {
     "name": "stdout",
     "output_type": "stream",
     "text": [
      "+---+---+---+---+---+---+\n",
      "| M | i | c | h | a | l |\n",
      "+---+---+---+---+---+---+\n"
     ]
    }
   ],
   "source": [
    "table_name(\"Michal\")"
   ]
  },
  {
   "cell_type": "markdown",
   "id": "071f49d7",
   "metadata": {},
   "source": [
    "# Zad 3.2 "
   ]
  },
  {
   "cell_type": "raw",
   "id": "0b4cb376",
   "metadata": {},
   "source": [
    "Make a loop over integer numbers from 1 to 40.\n",
    "If x is divided by 5 then print a message 'x is divided by 5'.\n",
    "If x is divided by 7 then print a message 'x is divided by 7'.\n",
    "If x is divided by 5 and 7 then print a message 'x is divided by 5 and 7'.\n",
    "Skip x = 13.\n",
    "If x is not divided by 5 and x is not divided by 7 \n",
    "then print a message 'x is not important'.\n",
    "Prepare two solutions with 'while' and 'for' loops."
   ]
  },
  {
   "cell_type": "code",
   "execution_count": 20,
   "id": "ffe8a29f",
   "metadata": {},
   "outputs": [
    {
     "name": "stdout",
     "output_type": "stream",
     "text": [
      "x is not important\n",
      "x is not important\n",
      "x is not important\n",
      "x is not important\n",
      "5 is divided by 5\n",
      "x is not important\n",
      "7 is divided by 7\n",
      "x is not important\n",
      "x is not important\n",
      "10 is divided by 5\n",
      "x is not important\n",
      "x is not important\n",
      "14 is divided by 7\n",
      "15 is divided by 5\n",
      "x is not important\n",
      "x is not important\n",
      "x is not important\n",
      "x is not important\n",
      "20 is divided by 5\n",
      "21 is divided by 7\n",
      "x is not important\n",
      "x is not important\n",
      "x is not important\n",
      "25 is divided by 5\n",
      "x is not important\n",
      "x is not important\n",
      "28 is divided by 7\n",
      "x is not important\n",
      "30 is divided by 5\n",
      "x is not important\n",
      "x is not important\n",
      "x is not important\n",
      "x is not important\n",
      "35 is divided by 5\n",
      "x is not important\n",
      "x is not important\n",
      "x is not important\n",
      "x is not important\n",
      "40 is divided by 5\n"
     ]
    }
   ],
   "source": [
    "for x in range(1,41):\n",
    "    if(x%5==0):\n",
    "        print('%d is divided by 5' % (x))\n",
    "    elif(x%7==0):\n",
    "        print('%d is divided by 7' % (x))    \n",
    "    elif(x%5==0 and x%7==0):\n",
    "        print('%d is divided by 5 and 7' % (x))\n",
    "    elif(x==13):\n",
    "        continue\n",
    "    else:\n",
    "        print('x is not important')"
   ]
  },
  {
   "cell_type": "code",
   "execution_count": 25,
   "id": "2c62c7fe",
   "metadata": {},
   "outputs": [
    {
     "name": "stdout",
     "output_type": "stream",
     "text": [
      "x is not important\n",
      "x is not important\n",
      "x is not important\n",
      "x is not important\n",
      "5 is divided by 5\n",
      "x is not important\n",
      "7 is divided by 7\n",
      "x is not important\n",
      "x is not important\n",
      "10 is divided by 5\n",
      "x is not important\n",
      "x is not important\n",
      "14 is divided by 7\n",
      "15 is divided by 5\n",
      "x is not important\n",
      "x is not important\n",
      "x is not important\n",
      "x is not important\n",
      "20 is divided by 5\n",
      "21 is divided by 7\n",
      "x is not important\n",
      "x is not important\n",
      "x is not important\n",
      "25 is divided by 5\n",
      "x is not important\n",
      "x is not important\n",
      "28 is divided by 7\n",
      "x is not important\n",
      "30 is divided by 5\n",
      "x is not important\n",
      "x is not important\n",
      "x is not important\n",
      "x is not important\n",
      "35 is divided by 5\n",
      "x is not important\n",
      "x is not important\n",
      "x is not important\n",
      "x is not important\n",
      "40 is divided by 5\n",
      "x is not important\n"
     ]
    }
   ],
   "source": [
    "x=1\n",
    "while(x<=41):\n",
    "    if(x%5==0):\n",
    "        print('%d is divided by 5' % (x))\n",
    "    elif(x%7==0):\n",
    "        print('%d is divided by 7' % (x))    \n",
    "    elif(x%5==0 and x%7==0):\n",
    "        print('%d is divided by 5 and 7' % (x))\n",
    "    elif(x==13):\n",
    "        x+=1\n",
    "        continue\n",
    "    else:\n",
    "        print('x is not important')\n",
    "    x+=1"
   ]
  },
  {
   "cell_type": "markdown",
   "id": "ddb550ff",
   "metadata": {},
   "source": [
    "# Zad 3.3"
   ]
  },
  {
   "cell_type": "markdown",
   "id": "65bbf783",
   "metadata": {},
   "source": [
    "Create the following variables:\n",
    "n = 2022\n",
    "x = math.pi   # save with 5 digits after a dot (import 'math' first!)\n",
    "word = \"Python\"\n",
    "polish = \"książka\"   # 'book' in English\n",
    "Write the variables to a text file \"vars.txt\",\n",
    "one line for one variable.\n",
    "Print the file content on the screen."
   ]
  },
  {
   "cell_type": "code",
   "execution_count": 34,
   "id": "074d3304",
   "metadata": {},
   "outputs": [],
   "source": [
    "import math\n",
    "n=2022\n",
    "x = round(math.pi,4)\n",
    "word = \"Python\"\n",
    "polish = \"książka\"\n",
    "\n",
    "with open(\"vars.txt\", 'w') as file:\n",
    "    file.write('%d\\n' % n)\n",
    "    file.write('%f\\n' % x)\n",
    "    file.write(polish + '\\n')"
   ]
  },
  {
   "cell_type": "code",
   "execution_count": 30,
   "id": "5ac27b36",
   "metadata": {},
   "outputs": [
    {
     "data": {
      "text/plain": [
       "5.77"
      ]
     },
     "execution_count": 30,
     "metadata": {},
     "output_type": "execute_result"
    }
   ],
   "source": [
    "round(5.76543, 2)"
   ]
  },
  {
   "cell_type": "code",
   "execution_count": null,
   "id": "109492c8",
   "metadata": {},
   "outputs": [],
   "source": []
  }
 ],
 "metadata": {
  "kernelspec": {
   "display_name": "Python 3 (ipykernel)",
   "language": "python",
   "name": "python3"
  },
  "language_info": {
   "codemirror_mode": {
    "name": "ipython",
    "version": 3
   },
   "file_extension": ".py",
   "mimetype": "text/x-python",
   "name": "python",
   "nbconvert_exporter": "python",
   "pygments_lexer": "ipython3",
   "version": "3.7.11"
  }
 },
 "nbformat": 4,
 "nbformat_minor": 5
}
