{
 "cells": [
  {
   "cell_type": "markdown",
   "id": "525ff480",
   "metadata": {},
   "source": [
    "# EXERCISE 6.1"
   ]
  },
  {
   "cell_type": "markdown",
   "id": "00c9b4c6",
   "metadata": {},
   "source": [
    "Create 3D vectors as a Python class. "
   ]
  },
  {
   "cell_type": "code",
   "execution_count": 111,
   "id": "dc0fd7b1",
   "metadata": {},
   "outputs": [
    {
     "name": "stdout",
     "output_type": "stream",
     "text": [
      "Tests passed\n"
     ]
    }
   ],
   "source": [
    "class Vector:\n",
    "\n",
    "    def __init__(self, x, y, z):\n",
    "        self.x = x\n",
    "        self.y = y\n",
    "        self.z = z\n",
    "        \n",
    "    def __eq__(self, other): \n",
    "        if(type(other)==int): # lenght of vector\n",
    "            result=(self.x**2+self.y**2+self.z**2)**(0.5)\n",
    "            return result==other\n",
    "        else:\n",
    "            return self.x-other.x==0 and self.y-other.y==0 and self.z-other.z==0\n",
    "    \n",
    "    def __repr__(self):\n",
    "        return (\"Vector(%d, %d, %d)\" % (self.x,self.y,self.z))# return string \"Vector(x, y, z)\"\n",
    "\n",
    "    def __add__(self, other):    # v + w\n",
    "        return Vector(self.x+other.x, self.y+other.y, self.z+other.z)\n",
    "    \n",
    "    def __sub__(self, other):    # v - w\n",
    "        return Vector(self.x-other.x, self.y-other.y, self.z-other.z)\n",
    "\n",
    "    def __mul__(self, other):   # return the dot product (number)\n",
    "        return self.x*other.x+ self.y*other.y+ self.z*other.z\n",
    "    \n",
    "    def length(self): \n",
    "        return math.sqrt(self.x**2+self.y**2+self.z**2)   # the length of the vector\n",
    "\n",
    "    def cross(self, other):   # return the cross product (Vector)\n",
    "        return Vector(self.y*other.z-self.z*other.y, self.z*other.x-self.x*other.z, self.x*other.y-self.y*other.x) \n",
    "\n",
    "    def __hash__(self):   # we assume that vectors are immutable\n",
    "        return hash((self.x, self.y, self.z))   # recommended    \n",
    "import math\n",
    "v = Vector(1, 2, 3)\n",
    "w = Vector(2, -3, 2)\n",
    "assert v != w\n",
    "assert v + w == Vector(3, -1, 5)\n",
    "assert v - w == Vector(-1, 5, 1)\n",
    "assert v * w == 2 \n",
    "assert v.cross(w) == Vector(13, 4, -7)\n",
    "assert v.length() == math.sqrt(14) \n",
    "assert len(S) == 2\n",
    "\n",
    "print(\"Tests passed\")"
   ]
  }
 ],
 "metadata": {
  "kernelspec": {
   "display_name": "Python 3 (ipykernel)",
   "language": "python",
   "name": "python3"
  },
  "language_info": {
   "codemirror_mode": {
    "name": "ipython",
    "version": 3
   },
   "file_extension": ".py",
   "mimetype": "text/x-python",
   "name": "python",
   "nbconvert_exporter": "python",
   "pygments_lexer": "ipython3",
   "version": "3.7.11"
  }
 },
 "nbformat": 4,
 "nbformat_minor": 5
}
