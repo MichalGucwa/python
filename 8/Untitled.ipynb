{
 "cells": [
  {
   "cell_type": "markdown",
   "id": "c91cf85b",
   "metadata": {},
   "source": [
    "# EXERCISE 8.1"
   ]
  },
  {
   "cell_type": "markdown",
   "id": "8926d69d",
   "metadata": {},
   "source": [
    "Create the following NumPy arrays:\n",
    "(a) float from 0.0 to 1.0 step 0.1, shape=(11,),\n",
    "(b) int zeros (1 byte) with shape=(5,6),\n",
    "(c) complex with shape=(9,), powers of x = complex(0, 1): 1, x, x**2, ..., x**8. "
   ]
  },
  {
   "cell_type": "code",
   "execution_count": 1,
   "id": "43ffa024",
   "metadata": {},
   "outputs": [],
   "source": [
    "import numpy as np"
   ]
  },
  {
   "cell_type": "code",
   "execution_count": 2,
   "id": "dddf521b",
   "metadata": {},
   "outputs": [
    {
     "name": "stdout",
     "output_type": "stream",
     "text": [
      "A\n",
      "[0.  0.1 0.2 0.3 0.4 0.5 0.6 0.7 0.8 0.9 1. ]\n",
      "(11,) \n",
      "\n",
      "B\n",
      "(5, 6)\n",
      "<class 'numpy.int8'> \n",
      "\n",
      "C\n",
      "[ 1.+0.j  0.+1.j -1.+0.j  0.-1.j  1.+0.j  0.+1.j -1.+0.j  0.-1.j  1.+0.j]\n",
      "(9,)\n"
     ]
    }
   ],
   "source": [
    "A=np.arange(0,1.1,0.1)\n",
    "print(\"A\")\n",
    "print(A)\n",
    "print(A.shape,'\\n')\n",
    "\n",
    "print(\"B\")\n",
    "B=np.zeros([5,6],dtype=np.byte)\n",
    "print(B.shape)\n",
    "print(type(B[0][0]),'\\n')\n",
    "\n",
    "print('C')\n",
    "C = np.array([0+1j**i for i in range(0,9)], dtype=complex)\n",
    "print(C)\n",
    "print(C.shape)"
   ]
  },
  {
   "cell_type": "markdown",
   "id": "0933fa31",
   "metadata": {},
   "source": [
    "# EXERCISE 8.2"
   ]
  },
  {
   "cell_type": "markdown",
   "id": "16b7afe0",
   "metadata": {},
   "source": [
    "(a) Create an arbitrary one dimensional array called v1.<br>\n",
    "(b) Create a new array v2 which consists of the odd indices of v1.<br>\n",
    "(c) Create a new array v3 in backwards ordering from v1"
   ]
  },
  {
   "cell_type": "code",
   "execution_count": 3,
   "id": "e7652aca",
   "metadata": {},
   "outputs": [
    {
     "data": {
      "text/plain": [
       "array([0, 1, 2, 3, 4])"
      ]
     },
     "execution_count": 3,
     "metadata": {},
     "output_type": "execute_result"
    }
   ],
   "source": [
    "v1=np.arange(0,5)\n",
    "v1"
   ]
  },
  {
   "cell_type": "code",
   "execution_count": 4,
   "id": "443452a5",
   "metadata": {},
   "outputs": [
    {
     "data": {
      "text/plain": [
       "array([1, 3])"
      ]
     },
     "execution_count": 4,
     "metadata": {},
     "output_type": "execute_result"
    }
   ],
   "source": [
    "v2=np.array([v1[i] for i in np.arange(1,len(v1),2)])\n",
    "v2"
   ]
  },
  {
   "cell_type": "code",
   "execution_count": 5,
   "id": "083a32d2",
   "metadata": {},
   "outputs": [
    {
     "data": {
      "text/plain": [
       "array([4, 3, 2, 1, 0])"
      ]
     },
     "execution_count": 5,
     "metadata": {},
     "output_type": "execute_result"
    }
   ],
   "source": [
    "v3=np.array([v1[i] for i in np.arange(len(v1)-1,-1,-1)])\n",
    "v3"
   ]
  },
  {
   "cell_type": "markdown",
   "id": "c2b99cea",
   "metadata": {},
   "source": [
    "# EXERCISE 8.3"
   ]
  },
  {
   "cell_type": "markdown",
   "id": "a76e9fcf",
   "metadata": {},
   "source": [
    "(a) Create a two dimensional array called m1, shape=(4,5). <br>\n",
    "(b) Create a new array m2 from m1, in which the elements of each row are in reverse order. <br>\n",
    "(c) Create a new array m3 from m1, in which the elements of each column are in reverse order. <br>\n",
    "(d) Cut of the first and last row and the first and last column of m1.  <br>"
   ]
  },
  {
   "cell_type": "code",
   "execution_count": 6,
   "id": "ebc1b304",
   "metadata": {},
   "outputs": [
    {
     "data": {
      "text/plain": [
       "array([[1., 1., 1., 1., 2.],\n",
       "       [1., 1., 1., 1., 1.],\n",
       "       [1., 1., 1., 1., 1.],\n",
       "       [3., 1., 1., 1., 4.]])"
      ]
     },
     "execution_count": 6,
     "metadata": {},
     "output_type": "execute_result"
    }
   ],
   "source": [
    "m1=np.ones([4,5])\n",
    "m1[0][4]=2\n",
    "m1[3][0]=3\n",
    "m1[3][4]=4\n",
    "m1"
   ]
  },
  {
   "cell_type": "code",
   "execution_count": 7,
   "id": "9077984d",
   "metadata": {},
   "outputs": [
    {
     "data": {
      "text/plain": [
       "array([[2., 1., 1., 1., 1.],\n",
       "       [1., 1., 1., 1., 1.],\n",
       "       [1., 1., 1., 1., 1.],\n",
       "       [4., 1., 1., 1., 3.]])"
      ]
     },
     "execution_count": 7,
     "metadata": {},
     "output_type": "execute_result"
    }
   ],
   "source": [
    "m2=m1[::,::-1]\n",
    "m2"
   ]
  },
  {
   "cell_type": "code",
   "execution_count": 8,
   "id": "31f40286",
   "metadata": {},
   "outputs": [
    {
     "data": {
      "text/plain": [
       "array([[3., 1., 1., 1., 4.],\n",
       "       [1., 1., 1., 1., 1.],\n",
       "       [1., 1., 1., 1., 1.],\n",
       "       [1., 1., 1., 1., 2.]])"
      ]
     },
     "execution_count": 8,
     "metadata": {},
     "output_type": "execute_result"
    }
   ],
   "source": [
    "m3=m1[::-1]\n",
    "m3"
   ]
  },
  {
   "cell_type": "code",
   "execution_count": 9,
   "id": "1fb0a16d",
   "metadata": {},
   "outputs": [
    {
     "data": {
      "text/plain": [
       "array([[1., 1., 1.],\n",
       "       [1., 1., 1.]])"
      ]
     },
     "execution_count": 9,
     "metadata": {},
     "output_type": "execute_result"
    }
   ],
   "source": [
    "m4=m1[1:-1,1:-1]\n",
    "m4"
   ]
  },
  {
   "cell_type": "code",
   "execution_count": null,
   "id": "e8ccbbf9",
   "metadata": {},
   "outputs": [],
   "source": []
  }
 ],
 "metadata": {
  "kernelspec": {
   "display_name": "Python 3 (ipykernel)",
   "language": "python",
   "name": "python3"
  },
  "language_info": {
   "codemirror_mode": {
    "name": "ipython",
    "version": 3
   },
   "file_extension": ".py",
   "mimetype": "text/x-python",
   "name": "python",
   "nbconvert_exporter": "python",
   "pygments_lexer": "ipython3",
   "version": "3.7.11"
  }
 },
 "nbformat": 4,
 "nbformat_minor": 5
}
