{
 "cells": [
  {
   "cell_type": "code",
   "execution_count": 1,
   "id": "a39ddced",
   "metadata": {},
   "outputs": [],
   "source": [
    "import math\n",
    "\n",
    "class Vector:\n",
    "\n",
    "    def __init__(self, x, y, z):\n",
    "        self.x = x\n",
    "        self.y = y\n",
    "        self.z = z\n",
    "        \n",
    "    def __eq__(self, other): \n",
    "        if(type(other)==int): # lenght of vector\n",
    "            result=(self.x**2+self.y**2+self.z**2)**(0.5)\n",
    "            return result==other\n",
    "        else:\n",
    "            return self.x-other.x==0 and self.y-other.y==0 and self.z-other.z==0\n",
    "    \n",
    "    def __repr__(self):\n",
    "        return (\"Vector(%f, %f, %f)\" % (self.x,self.y,self.z))# return string \"Vector(x, y, z)\"\n",
    "\n",
    "    def __add__(self, other):    # v + w\n",
    "        return Vector(self.x+other.x, self.y+other.y, self.z+other.z)\n",
    "    \n",
    "    def __sub__(self, other):    # v - w\n",
    "        return Vector(self.x-other.x, self.y-other.y, self.z-other.z)\n",
    "\n",
    "    def __mul__(self, other):   # return the dot product (number)\n",
    "        return self.x*other.x+ self.y*other.y+ self.z*other.z\n",
    "    \n",
    "    def length(self): \n",
    "        return math.sqrt(self.x**2+self.y**2+self.z**2)   # the length of the vector\n",
    "\n",
    "    def cross(self, other):   # return the cross product (Vector)\n",
    "        return Vector(self.y*other.z-self.z*other.y, self.z*other.x-self.x*other.z, self.x*other.y-self.y*other.x) \n",
    "\n",
    "    def __hash__(self):   # we assume that vectors are immutable\n",
    "        return hash((self.x, self.y, self.z))   # recommended    "
   ]
  },
  {
   "cell_type": "markdown",
   "id": "6af89d13",
   "metadata": {},
   "source": [
    "# EXERCISE 7.1"
   ]
  },
  {
   "cell_type": "markdown",
   "id": "1adaef4d",
   "metadata": {},
   "source": [
    "Create a function find_axis(v1, v2) which returns the unit vector v3, where v3 is perpendicular to the vectors v1 and v2. If the vectors v1 and v2 are parallel (or zero) then the function should raise an exception (ValueError) [Hint: v1 and v2 are parallel if the cross product v1 x v2 is zero]. Vectors are instances of the Vector class from Homework 6. "
   ]
  },
  {
   "cell_type": "code",
   "execution_count": 2,
   "id": "0591326a",
   "metadata": {},
   "outputs": [
    {
     "data": {
      "text/plain": [
       "Vector(-0.707107, 0.000000, 0.707107)"
      ]
     },
     "execution_count": 2,
     "metadata": {},
     "output_type": "execute_result"
    }
   ],
   "source": [
    "v=Vector(1,1,1)\n",
    "w=Vector(2,3,2)\n",
    "\n",
    "\n",
    "def find_axis(v1,v2):\n",
    "    result=v1.cross(v2)\n",
    "    length=result.length()\n",
    "    if(v1==Vector(0,0,0) or v2==Vector(0,0,0)):\n",
    "        raise ValueError(\"One of the Vectors is zero\")\n",
    "    if(length==0):\n",
    "        raise ValueError(\"Vectors are parrel to each other.\")\n",
    "\n",
    "    return Vector(result.x/length, result.y/length, result.z/length)\n",
    "\n",
    "find_axis(v,w)"
   ]
  },
  {
   "cell_type": "code",
   "execution_count": null,
   "id": "915e5808",
   "metadata": {},
   "outputs": [],
   "source": []
  }
 ],
 "metadata": {
  "kernelspec": {
   "display_name": "Python 3 (ipykernel)",
   "language": "python",
   "name": "python3"
  },
  "language_info": {
   "codemirror_mode": {
    "name": "ipython",
    "version": 3
   },
   "file_extension": ".py",
   "mimetype": "text/x-python",
   "name": "python",
   "nbconvert_exporter": "python",
   "pygments_lexer": "ipython3",
   "version": "3.7.11"
  }
 },
 "nbformat": 4,
 "nbformat_minor": 5
}
